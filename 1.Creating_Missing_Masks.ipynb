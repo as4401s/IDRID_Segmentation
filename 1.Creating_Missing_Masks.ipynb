{
 "cells": [
  {
   "cell_type": "code",
   "execution_count": 1,
   "metadata": {},
   "outputs": [],
   "source": [
    "import numpy as np\n",
    "import tensorflow as tf\n",
    "import cv2 as cv\n",
    "import os\n",
    "import csv\n",
    "import pandas as pd\n",
    "from skimage import io "
   ]
  },
  {
   "cell_type": "code",
   "execution_count": 2,
   "metadata": {},
   "outputs": [],
   "source": [
    "path_train = 'D:/Kaggle datasets/IDRIS/A. Segmentation/1. Original Images/a. Training Set'\n",
    "path_train_gt = 'D:/Kaggle datasets/IDRIS/A. Segmentation/2. All Segmentation Groundtruths/a. Training Set'\n",
    "path_test = 'D:/Kaggle datasets/IDRIS/A. Segmentation/1. Original Images/b. Testing Set'\n",
    "path_test_gt = 'D:/Kaggle datasets/IDRIS/A. Segmentation/2. All Segmentation Groundtruths/b. Testing Set'"
   ]
  },
  {
   "cell_type": "code",
   "execution_count": 3,
   "metadata": {},
   "outputs": [
    {
     "name": "stdout",
     "output_type": "stream",
     "text": [
      "['1. Microaneurysms', '2. Haemorrhages', '3. Hard Exudates', '4. Soft Exudates', '5. Optic Disc']\n"
     ]
    }
   ],
   "source": [
    "train = os.listdir(path_train)\n",
    "train_gt = os.listdir(path_train_gt)\n",
    "test = os.listdir(path_test)\n",
    "test_gt = os.listdir(path_test_gt)\n",
    "\n",
    "print(train_gt)"
   ]
  },
  {
   "cell_type": "code",
   "execution_count": 4,
   "metadata": {},
   "outputs": [],
   "source": [
    "labels = ['1. Microaneurysms','2. Haemorrhages','3. Hard Exudates','4. Soft Exudates','5. Optic Disc']\n",
    "\n",
    "image_size = 1024"
   ]
  },
  {
   "cell_type": "code",
   "execution_count": 5,
   "metadata": {},
   "outputs": [],
   "source": [
    "def create_image():\n",
    "    \n",
    "    h = 4288\n",
    "    w = 2848\n",
    "    image = np.zeros(shape=[w, h, 3], dtype=np.uint8)\n",
    "    return image"
   ]
  },
  {
   "cell_type": "code",
   "execution_count": 6,
   "metadata": {},
   "outputs": [],
   "source": [
    "def create_csv(dataset,image_path):\n",
    "    \n",
    "    data=[]\n",
    "    \n",
    "    with open(f'{dataset}.csv', 'w', newline='') as writeFile:\n",
    "        writer = csv.writer(writeFile)\n",
    "        for filename in os.listdir(image_path):\n",
    "            data.append(filename)\n",
    "            writer.writerow(data)\n",
    "            data=[]\n",
    "    writeFile.close()"
   ]
  },
  {
   "cell_type": "code",
   "execution_count": 7,
   "metadata": {},
   "outputs": [],
   "source": [
    "create_csv('train',path_train)\n",
    "create_csv('test',path_test)"
   ]
  },
  {
   "cell_type": "code",
   "execution_count": 8,
   "metadata": {},
   "outputs": [
    {
     "data": {
      "text/html": [
       "<div>\n",
       "<style scoped>\n",
       "    .dataframe tbody tr th:only-of-type {\n",
       "        vertical-align: middle;\n",
       "    }\n",
       "\n",
       "    .dataframe tbody tr th {\n",
       "        vertical-align: top;\n",
       "    }\n",
       "\n",
       "    .dataframe thead th {\n",
       "        text-align: right;\n",
       "    }\n",
       "</style>\n",
       "<table border=\"1\" class=\"dataframe\">\n",
       "  <thead>\n",
       "    <tr style=\"text-align: right;\">\n",
       "      <th></th>\n",
       "      <th>image</th>\n",
       "      <th>type</th>\n",
       "    </tr>\n",
       "  </thead>\n",
       "  <tbody>\n",
       "    <tr>\n",
       "      <th>0</th>\n",
       "      <td>IDRiD_01</td>\n",
       "      <td>jpg</td>\n",
       "    </tr>\n",
       "    <tr>\n",
       "      <th>1</th>\n",
       "      <td>IDRiD_02</td>\n",
       "      <td>jpg</td>\n",
       "    </tr>\n",
       "    <tr>\n",
       "      <th>2</th>\n",
       "      <td>IDRiD_03</td>\n",
       "      <td>jpg</td>\n",
       "    </tr>\n",
       "    <tr>\n",
       "      <th>3</th>\n",
       "      <td>IDRiD_04</td>\n",
       "      <td>jpg</td>\n",
       "    </tr>\n",
       "    <tr>\n",
       "      <th>4</th>\n",
       "      <td>IDRiD_05</td>\n",
       "      <td>jpg</td>\n",
       "    </tr>\n",
       "  </tbody>\n",
       "</table>\n",
       "</div>"
      ],
      "text/plain": [
       "      image type\n",
       "0  IDRiD_01  jpg\n",
       "1  IDRiD_02  jpg\n",
       "2  IDRiD_03  jpg\n",
       "3  IDRiD_04  jpg\n",
       "4  IDRiD_05  jpg"
      ]
     },
     "execution_count": 8,
     "metadata": {},
     "output_type": "execute_result"
    }
   ],
   "source": [
    "df_train = pd.read_csv('train.csv',delimiter = '.',names=['image','type'])\n",
    "df_train.head()"
   ]
  },
  {
   "cell_type": "code",
   "execution_count": 9,
   "metadata": {},
   "outputs": [
    {
     "data": {
      "text/html": [
       "<div>\n",
       "<style scoped>\n",
       "    .dataframe tbody tr th:only-of-type {\n",
       "        vertical-align: middle;\n",
       "    }\n",
       "\n",
       "    .dataframe tbody tr th {\n",
       "        vertical-align: top;\n",
       "    }\n",
       "\n",
       "    .dataframe thead th {\n",
       "        text-align: right;\n",
       "    }\n",
       "</style>\n",
       "<table border=\"1\" class=\"dataframe\">\n",
       "  <thead>\n",
       "    <tr style=\"text-align: right;\">\n",
       "      <th></th>\n",
       "      <th>image</th>\n",
       "      <th>type</th>\n",
       "    </tr>\n",
       "  </thead>\n",
       "  <tbody>\n",
       "    <tr>\n",
       "      <th>0</th>\n",
       "      <td>IDRiD_55</td>\n",
       "      <td>jpg</td>\n",
       "    </tr>\n",
       "    <tr>\n",
       "      <th>1</th>\n",
       "      <td>IDRiD_56</td>\n",
       "      <td>jpg</td>\n",
       "    </tr>\n",
       "    <tr>\n",
       "      <th>2</th>\n",
       "      <td>IDRiD_57</td>\n",
       "      <td>jpg</td>\n",
       "    </tr>\n",
       "    <tr>\n",
       "      <th>3</th>\n",
       "      <td>IDRiD_58</td>\n",
       "      <td>jpg</td>\n",
       "    </tr>\n",
       "    <tr>\n",
       "      <th>4</th>\n",
       "      <td>IDRiD_59</td>\n",
       "      <td>jpg</td>\n",
       "    </tr>\n",
       "  </tbody>\n",
       "</table>\n",
       "</div>"
      ],
      "text/plain": [
       "      image type\n",
       "0  IDRiD_55  jpg\n",
       "1  IDRiD_56  jpg\n",
       "2  IDRiD_57  jpg\n",
       "3  IDRiD_58  jpg\n",
       "4  IDRiD_59  jpg"
      ]
     },
     "execution_count": 9,
     "metadata": {},
     "output_type": "execute_result"
    }
   ],
   "source": [
    "df_test = pd.read_csv('test.csv',delimiter = '.',names=['image','type'])\n",
    "df_test.head()"
   ]
  },
  {
   "cell_type": "code",
   "execution_count": 10,
   "metadata": {},
   "outputs": [],
   "source": [
    "def load_masks (path, label):\n",
    "    \n",
    "    i = os.listdir(os.path.join(path, label))\n",
    "    return i"
   ]
  },
  {
   "cell_type": "code",
   "execution_count": 11,
   "metadata": {},
   "outputs": [],
   "source": [
    "def create_images_gt(df, path, labels, num, string):\n",
    "\n",
    "    for i,item in df.iterrows():\n",
    "    \n",
    "        file_path = path +'/'+ labels[num]+'/'+ item[0] + '_' + string + '.tif'\n",
    "        if os.path.isfile(file_path):\n",
    "            print('exists')\n",
    "        else:\n",
    "            print('dosent exist')\n",
    "            img = create_image()\n",
    "            io.imsave(file_path,img)\n",
    "            print('created')"
   ]
  },
  {
   "cell_type": "code",
   "execution_count": 13,
   "metadata": {},
   "outputs": [
    {
     "name": "stdout",
     "output_type": "stream",
     "text": [
      "exists\n",
      "exists\n",
      "exists\n",
      "exists\n",
      "exists\n",
      "exists\n",
      "exists\n",
      "exists\n",
      "exists\n",
      "exists\n",
      "exists\n",
      "exists\n",
      "exists\n",
      "exists\n",
      "exists\n",
      "exists\n",
      "exists\n",
      "exists\n",
      "exists\n",
      "exists\n",
      "exists\n",
      "exists\n",
      "exists\n",
      "exists\n",
      "exists\n",
      "exists\n",
      "exists\n",
      "exists\n",
      "exists\n",
      "exists\n",
      "exists\n",
      "exists\n",
      "exists\n",
      "exists\n",
      "exists\n",
      "exists\n",
      "exists\n",
      "exists\n",
      "exists\n",
      "exists\n",
      "exists\n",
      "exists\n",
      "exists\n",
      "exists\n",
      "exists\n",
      "exists\n",
      "exists\n",
      "exists\n",
      "exists\n",
      "exists\n",
      "exists\n",
      "exists\n",
      "exists\n",
      "exists\n"
     ]
    }
   ],
   "source": [
    "create_images_gt(df_train, path_train_gt, labels, num = 0, string = 'MA')"
   ]
  },
  {
   "cell_type": "code",
   "execution_count": 14,
   "metadata": {},
   "outputs": [
    {
     "name": "stdout",
     "output_type": "stream",
     "text": [
      "exists\n",
      "exists\n",
      "exists\n",
      "exists\n",
      "exists\n",
      "exists\n",
      "exists\n",
      "exists\n",
      "exists\n",
      "exists\n",
      "exists\n",
      "exists\n",
      "exists\n",
      "exists\n",
      "exists\n",
      "exists\n",
      "exists\n",
      "exists\n",
      "exists\n",
      "exists\n",
      "exists\n",
      "exists\n",
      "exists\n",
      "exists\n",
      "exists\n",
      "exists\n",
      "exists\n",
      "exists\n",
      "exists\n",
      "exists\n",
      "exists\n",
      "exists\n",
      "exists\n",
      "exists\n",
      "exists\n",
      "exists\n",
      "exists\n",
      "exists\n",
      "exists\n",
      "exists\n",
      "exists\n",
      "exists\n",
      "dosent exist\n"
     ]
    },
    {
     "name": "stderr",
     "output_type": "stream",
     "text": [
      "C:\\Users\\asarkar.NATICK-NT\\.conda\\envs\\tf-gpu\\lib\\site-packages\\ipykernel_launcher.py:11: UserWarning: D:/Kaggle datasets/IDRIS/A. Segmentation/2. All Segmentation Groundtruths/a. Training Set/2. Haemorrhages/IDRiD_43_HE.tif is a low contrast image\n",
      "  # This is added back by InteractiveShellApp.init_path()\n"
     ]
    },
    {
     "name": "stdout",
     "output_type": "stream",
     "text": [
      "created\n",
      "exists\n",
      "exists\n",
      "exists\n",
      "exists\n",
      "exists\n",
      "exists\n",
      "exists\n",
      "exists\n",
      "exists\n",
      "exists\n",
      "exists\n"
     ]
    }
   ],
   "source": [
    "create_images_gt(df_train, path_train_gt, labels, num = 1, string = 'HE')"
   ]
  },
  {
   "cell_type": "code",
   "execution_count": 15,
   "metadata": {},
   "outputs": [
    {
     "name": "stdout",
     "output_type": "stream",
     "text": [
      "exists\n",
      "exists\n",
      "exists\n",
      "exists\n",
      "exists\n",
      "exists\n",
      "exists\n",
      "exists\n",
      "exists\n",
      "exists\n",
      "exists\n",
      "exists\n",
      "exists\n",
      "exists\n",
      "exists\n",
      "exists\n",
      "exists\n",
      "exists\n",
      "exists\n",
      "exists\n",
      "exists\n",
      "exists\n",
      "exists\n",
      "exists\n",
      "exists\n",
      "exists\n",
      "exists\n",
      "exists\n",
      "exists\n",
      "exists\n",
      "exists\n",
      "exists\n",
      "exists\n",
      "exists\n",
      "exists\n",
      "exists\n",
      "exists\n",
      "exists\n",
      "exists\n",
      "exists\n",
      "exists\n",
      "exists\n",
      "exists\n",
      "exists\n",
      "exists\n",
      "exists\n",
      "exists\n",
      "exists\n",
      "exists\n",
      "exists\n",
      "exists\n",
      "exists\n",
      "exists\n",
      "exists\n"
     ]
    }
   ],
   "source": [
    "create_images_gt(df_train, path_train_gt, labels, num = 2, string = 'EX')"
   ]
  },
  {
   "cell_type": "code",
   "execution_count": 16,
   "metadata": {},
   "outputs": [
    {
     "name": "stdout",
     "output_type": "stream",
     "text": [
      "dosent exist\n"
     ]
    },
    {
     "name": "stderr",
     "output_type": "stream",
     "text": [
      "C:\\Users\\asarkar.NATICK-NT\\.conda\\envs\\tf-gpu\\lib\\site-packages\\ipykernel_launcher.py:11: UserWarning: D:/Kaggle datasets/IDRIS/A. Segmentation/2. All Segmentation Groundtruths/a. Training Set/4. Soft Exudates/IDRiD_01_SE.tif is a low contrast image\n",
      "  # This is added back by InteractiveShellApp.init_path()\n"
     ]
    },
    {
     "name": "stdout",
     "output_type": "stream",
     "text": [
      "created\n",
      "dosent exist\n"
     ]
    },
    {
     "name": "stderr",
     "output_type": "stream",
     "text": [
      "C:\\Users\\asarkar.NATICK-NT\\.conda\\envs\\tf-gpu\\lib\\site-packages\\ipykernel_launcher.py:11: UserWarning: D:/Kaggle datasets/IDRIS/A. Segmentation/2. All Segmentation Groundtruths/a. Training Set/4. Soft Exudates/IDRiD_02_SE.tif is a low contrast image\n",
      "  # This is added back by InteractiveShellApp.init_path()\n"
     ]
    },
    {
     "name": "stdout",
     "output_type": "stream",
     "text": [
      "created\n",
      "exists\n",
      "dosent exist\n"
     ]
    },
    {
     "name": "stderr",
     "output_type": "stream",
     "text": [
      "C:\\Users\\asarkar.NATICK-NT\\.conda\\envs\\tf-gpu\\lib\\site-packages\\ipykernel_launcher.py:11: UserWarning: D:/Kaggle datasets/IDRIS/A. Segmentation/2. All Segmentation Groundtruths/a. Training Set/4. Soft Exudates/IDRiD_04_SE.tif is a low contrast image\n",
      "  # This is added back by InteractiveShellApp.init_path()\n"
     ]
    },
    {
     "name": "stdout",
     "output_type": "stream",
     "text": [
      "created\n",
      "dosent exist\n"
     ]
    },
    {
     "name": "stderr",
     "output_type": "stream",
     "text": [
      "C:\\Users\\asarkar.NATICK-NT\\.conda\\envs\\tf-gpu\\lib\\site-packages\\ipykernel_launcher.py:11: UserWarning: D:/Kaggle datasets/IDRIS/A. Segmentation/2. All Segmentation Groundtruths/a. Training Set/4. Soft Exudates/IDRiD_05_SE.tif is a low contrast image\n",
      "  # This is added back by InteractiveShellApp.init_path()\n"
     ]
    },
    {
     "name": "stdout",
     "output_type": "stream",
     "text": [
      "created\n",
      "dosent exist\n"
     ]
    },
    {
     "name": "stderr",
     "output_type": "stream",
     "text": [
      "C:\\Users\\asarkar.NATICK-NT\\.conda\\envs\\tf-gpu\\lib\\site-packages\\ipykernel_launcher.py:11: UserWarning: D:/Kaggle datasets/IDRIS/A. Segmentation/2. All Segmentation Groundtruths/a. Training Set/4. Soft Exudates/IDRiD_06_SE.tif is a low contrast image\n",
      "  # This is added back by InteractiveShellApp.init_path()\n"
     ]
    },
    {
     "name": "stdout",
     "output_type": "stream",
     "text": [
      "created\n",
      "dosent exist\n"
     ]
    },
    {
     "name": "stderr",
     "output_type": "stream",
     "text": [
      "C:\\Users\\asarkar.NATICK-NT\\.conda\\envs\\tf-gpu\\lib\\site-packages\\ipykernel_launcher.py:11: UserWarning: D:/Kaggle datasets/IDRIS/A. Segmentation/2. All Segmentation Groundtruths/a. Training Set/4. Soft Exudates/IDRiD_07_SE.tif is a low contrast image\n",
      "  # This is added back by InteractiveShellApp.init_path()\n"
     ]
    },
    {
     "name": "stdout",
     "output_type": "stream",
     "text": [
      "created\n",
      "exists\n",
      "dosent exist\n"
     ]
    },
    {
     "name": "stderr",
     "output_type": "stream",
     "text": [
      "C:\\Users\\asarkar.NATICK-NT\\.conda\\envs\\tf-gpu\\lib\\site-packages\\ipykernel_launcher.py:11: UserWarning: D:/Kaggle datasets/IDRIS/A. Segmentation/2. All Segmentation Groundtruths/a. Training Set/4. Soft Exudates/IDRiD_09_SE.tif is a low contrast image\n",
      "  # This is added back by InteractiveShellApp.init_path()\n"
     ]
    },
    {
     "name": "stdout",
     "output_type": "stream",
     "text": [
      "created\n",
      "dosent exist\n"
     ]
    },
    {
     "name": "stderr",
     "output_type": "stream",
     "text": [
      "C:\\Users\\asarkar.NATICK-NT\\.conda\\envs\\tf-gpu\\lib\\site-packages\\ipykernel_launcher.py:11: UserWarning: D:/Kaggle datasets/IDRIS/A. Segmentation/2. All Segmentation Groundtruths/a. Training Set/4. Soft Exudates/IDRiD_10_SE.tif is a low contrast image\n",
      "  # This is added back by InteractiveShellApp.init_path()\n"
     ]
    },
    {
     "name": "stdout",
     "output_type": "stream",
     "text": [
      "created\n",
      "dosent exist\n"
     ]
    },
    {
     "name": "stderr",
     "output_type": "stream",
     "text": [
      "C:\\Users\\asarkar.NATICK-NT\\.conda\\envs\\tf-gpu\\lib\\site-packages\\ipykernel_launcher.py:11: UserWarning: D:/Kaggle datasets/IDRIS/A. Segmentation/2. All Segmentation Groundtruths/a. Training Set/4. Soft Exudates/IDRiD_11_SE.tif is a low contrast image\n",
      "  # This is added back by InteractiveShellApp.init_path()\n"
     ]
    },
    {
     "name": "stdout",
     "output_type": "stream",
     "text": [
      "created\n",
      "dosent exist\n"
     ]
    },
    {
     "name": "stderr",
     "output_type": "stream",
     "text": [
      "C:\\Users\\asarkar.NATICK-NT\\.conda\\envs\\tf-gpu\\lib\\site-packages\\ipykernel_launcher.py:11: UserWarning: D:/Kaggle datasets/IDRIS/A. Segmentation/2. All Segmentation Groundtruths/a. Training Set/4. Soft Exudates/IDRiD_12_SE.tif is a low contrast image\n",
      "  # This is added back by InteractiveShellApp.init_path()\n"
     ]
    },
    {
     "name": "stdout",
     "output_type": "stream",
     "text": [
      "created\n",
      "exists\n",
      "exists\n",
      "dosent exist\n"
     ]
    },
    {
     "name": "stderr",
     "output_type": "stream",
     "text": [
      "C:\\Users\\asarkar.NATICK-NT\\.conda\\envs\\tf-gpu\\lib\\site-packages\\ipykernel_launcher.py:11: UserWarning: D:/Kaggle datasets/IDRIS/A. Segmentation/2. All Segmentation Groundtruths/a. Training Set/4. Soft Exudates/IDRiD_15_SE.tif is a low contrast image\n",
      "  # This is added back by InteractiveShellApp.init_path()\n"
     ]
    },
    {
     "name": "stdout",
     "output_type": "stream",
     "text": [
      "created\n",
      "dosent exist\n"
     ]
    },
    {
     "name": "stderr",
     "output_type": "stream",
     "text": [
      "C:\\Users\\asarkar.NATICK-NT\\.conda\\envs\\tf-gpu\\lib\\site-packages\\ipykernel_launcher.py:11: UserWarning: D:/Kaggle datasets/IDRIS/A. Segmentation/2. All Segmentation Groundtruths/a. Training Set/4. Soft Exudates/IDRiD_16_SE.tif is a low contrast image\n",
      "  # This is added back by InteractiveShellApp.init_path()\n"
     ]
    },
    {
     "name": "stdout",
     "output_type": "stream",
     "text": [
      "created\n",
      "exists\n",
      "exists\n",
      "exists\n",
      "dosent exist\n"
     ]
    },
    {
     "name": "stderr",
     "output_type": "stream",
     "text": [
      "C:\\Users\\asarkar.NATICK-NT\\.conda\\envs\\tf-gpu\\lib\\site-packages\\ipykernel_launcher.py:11: UserWarning: D:/Kaggle datasets/IDRIS/A. Segmentation/2. All Segmentation Groundtruths/a. Training Set/4. Soft Exudates/IDRiD_20_SE.tif is a low contrast image\n",
      "  # This is added back by InteractiveShellApp.init_path()\n"
     ]
    },
    {
     "name": "stdout",
     "output_type": "stream",
     "text": [
      "created\n",
      "dosent exist\n"
     ]
    },
    {
     "name": "stderr",
     "output_type": "stream",
     "text": [
      "C:\\Users\\asarkar.NATICK-NT\\.conda\\envs\\tf-gpu\\lib\\site-packages\\ipykernel_launcher.py:11: UserWarning: D:/Kaggle datasets/IDRIS/A. Segmentation/2. All Segmentation Groundtruths/a. Training Set/4. Soft Exudates/IDRiD_21_SE.tif is a low contrast image\n",
      "  # This is added back by InteractiveShellApp.init_path()\n"
     ]
    },
    {
     "name": "stdout",
     "output_type": "stream",
     "text": [
      "created\n",
      "exists\n",
      "exists\n",
      "dosent exist\n"
     ]
    },
    {
     "name": "stderr",
     "output_type": "stream",
     "text": [
      "C:\\Users\\asarkar.NATICK-NT\\.conda\\envs\\tf-gpu\\lib\\site-packages\\ipykernel_launcher.py:11: UserWarning: D:/Kaggle datasets/IDRIS/A. Segmentation/2. All Segmentation Groundtruths/a. Training Set/4. Soft Exudates/IDRiD_24_SE.tif is a low contrast image\n",
      "  # This is added back by InteractiveShellApp.init_path()\n"
     ]
    },
    {
     "name": "stdout",
     "output_type": "stream",
     "text": [
      "created\n",
      "exists\n",
      "dosent exist\n"
     ]
    },
    {
     "name": "stderr",
     "output_type": "stream",
     "text": [
      "C:\\Users\\asarkar.NATICK-NT\\.conda\\envs\\tf-gpu\\lib\\site-packages\\ipykernel_launcher.py:11: UserWarning: D:/Kaggle datasets/IDRIS/A. Segmentation/2. All Segmentation Groundtruths/a. Training Set/4. Soft Exudates/IDRiD_26_SE.tif is a low contrast image\n",
      "  # This is added back by InteractiveShellApp.init_path()\n"
     ]
    },
    {
     "name": "stdout",
     "output_type": "stream",
     "text": [
      "created\n",
      "dosent exist\n"
     ]
    },
    {
     "name": "stderr",
     "output_type": "stream",
     "text": [
      "C:\\Users\\asarkar.NATICK-NT\\.conda\\envs\\tf-gpu\\lib\\site-packages\\ipykernel_launcher.py:11: UserWarning: D:/Kaggle datasets/IDRIS/A. Segmentation/2. All Segmentation Groundtruths/a. Training Set/4. Soft Exudates/IDRiD_27_SE.tif is a low contrast image\n",
      "  # This is added back by InteractiveShellApp.init_path()\n"
     ]
    },
    {
     "name": "stdout",
     "output_type": "stream",
     "text": [
      "created\n",
      "dosent exist\n"
     ]
    },
    {
     "name": "stderr",
     "output_type": "stream",
     "text": [
      "C:\\Users\\asarkar.NATICK-NT\\.conda\\envs\\tf-gpu\\lib\\site-packages\\ipykernel_launcher.py:11: UserWarning: D:/Kaggle datasets/IDRIS/A. Segmentation/2. All Segmentation Groundtruths/a. Training Set/4. Soft Exudates/IDRiD_28_SE.tif is a low contrast image\n",
      "  # This is added back by InteractiveShellApp.init_path()\n"
     ]
    },
    {
     "name": "stdout",
     "output_type": "stream",
     "text": [
      "created\n",
      "dosent exist\n"
     ]
    },
    {
     "name": "stderr",
     "output_type": "stream",
     "text": [
      "C:\\Users\\asarkar.NATICK-NT\\.conda\\envs\\tf-gpu\\lib\\site-packages\\ipykernel_launcher.py:11: UserWarning: D:/Kaggle datasets/IDRIS/A. Segmentation/2. All Segmentation Groundtruths/a. Training Set/4. Soft Exudates/IDRiD_29_SE.tif is a low contrast image\n",
      "  # This is added back by InteractiveShellApp.init_path()\n"
     ]
    },
    {
     "name": "stdout",
     "output_type": "stream",
     "text": [
      "created\n",
      "exists\n",
      "exists\n",
      "exists\n",
      "exists\n",
      "dosent exist\n"
     ]
    },
    {
     "name": "stderr",
     "output_type": "stream",
     "text": [
      "C:\\Users\\asarkar.NATICK-NT\\.conda\\envs\\tf-gpu\\lib\\site-packages\\ipykernel_launcher.py:11: UserWarning: D:/Kaggle datasets/IDRIS/A. Segmentation/2. All Segmentation Groundtruths/a. Training Set/4. Soft Exudates/IDRiD_34_SE.tif is a low contrast image\n",
      "  # This is added back by InteractiveShellApp.init_path()\n"
     ]
    },
    {
     "name": "stdout",
     "output_type": "stream",
     "text": [
      "created\n",
      "exists\n",
      "dosent exist\n"
     ]
    },
    {
     "name": "stderr",
     "output_type": "stream",
     "text": [
      "C:\\Users\\asarkar.NATICK-NT\\.conda\\envs\\tf-gpu\\lib\\site-packages\\ipykernel_launcher.py:11: UserWarning: D:/Kaggle datasets/IDRIS/A. Segmentation/2. All Segmentation Groundtruths/a. Training Set/4. Soft Exudates/IDRiD_36_SE.tif is a low contrast image\n",
      "  # This is added back by InteractiveShellApp.init_path()\n"
     ]
    },
    {
     "name": "stdout",
     "output_type": "stream",
     "text": [
      "created\n",
      "dosent exist\n"
     ]
    },
    {
     "name": "stderr",
     "output_type": "stream",
     "text": [
      "C:\\Users\\asarkar.NATICK-NT\\.conda\\envs\\tf-gpu\\lib\\site-packages\\ipykernel_launcher.py:11: UserWarning: D:/Kaggle datasets/IDRIS/A. Segmentation/2. All Segmentation Groundtruths/a. Training Set/4. Soft Exudates/IDRiD_37_SE.tif is a low contrast image\n",
      "  # This is added back by InteractiveShellApp.init_path()\n"
     ]
    },
    {
     "name": "stdout",
     "output_type": "stream",
     "text": [
      "created\n",
      "exists\n",
      "exists\n",
      "dosent exist\n"
     ]
    },
    {
     "name": "stderr",
     "output_type": "stream",
     "text": [
      "C:\\Users\\asarkar.NATICK-NT\\.conda\\envs\\tf-gpu\\lib\\site-packages\\ipykernel_launcher.py:11: UserWarning: D:/Kaggle datasets/IDRIS/A. Segmentation/2. All Segmentation Groundtruths/a. Training Set/4. Soft Exudates/IDRiD_40_SE.tif is a low contrast image\n",
      "  # This is added back by InteractiveShellApp.init_path()\n"
     ]
    },
    {
     "name": "stdout",
     "output_type": "stream",
     "text": [
      "created\n",
      "dosent exist\n"
     ]
    },
    {
     "name": "stderr",
     "output_type": "stream",
     "text": [
      "C:\\Users\\asarkar.NATICK-NT\\.conda\\envs\\tf-gpu\\lib\\site-packages\\ipykernel_launcher.py:11: UserWarning: D:/Kaggle datasets/IDRIS/A. Segmentation/2. All Segmentation Groundtruths/a. Training Set/4. Soft Exudates/IDRiD_41_SE.tif is a low contrast image\n",
      "  # This is added back by InteractiveShellApp.init_path()\n"
     ]
    },
    {
     "name": "stdout",
     "output_type": "stream",
     "text": [
      "created\n",
      "dosent exist\n"
     ]
    },
    {
     "name": "stderr",
     "output_type": "stream",
     "text": [
      "C:\\Users\\asarkar.NATICK-NT\\.conda\\envs\\tf-gpu\\lib\\site-packages\\ipykernel_launcher.py:11: UserWarning: D:/Kaggle datasets/IDRIS/A. Segmentation/2. All Segmentation Groundtruths/a. Training Set/4. Soft Exudates/IDRiD_42_SE.tif is a low contrast image\n",
      "  # This is added back by InteractiveShellApp.init_path()\n"
     ]
    },
    {
     "name": "stdout",
     "output_type": "stream",
     "text": [
      "created\n",
      "dosent exist\n"
     ]
    },
    {
     "name": "stderr",
     "output_type": "stream",
     "text": [
      "C:\\Users\\asarkar.NATICK-NT\\.conda\\envs\\tf-gpu\\lib\\site-packages\\ipykernel_launcher.py:11: UserWarning: D:/Kaggle datasets/IDRIS/A. Segmentation/2. All Segmentation Groundtruths/a. Training Set/4. Soft Exudates/IDRiD_43_SE.tif is a low contrast image\n",
      "  # This is added back by InteractiveShellApp.init_path()\n"
     ]
    },
    {
     "name": "stdout",
     "output_type": "stream",
     "text": [
      "created\n",
      "dosent exist\n"
     ]
    },
    {
     "name": "stderr",
     "output_type": "stream",
     "text": [
      "C:\\Users\\asarkar.NATICK-NT\\.conda\\envs\\tf-gpu\\lib\\site-packages\\ipykernel_launcher.py:11: UserWarning: D:/Kaggle datasets/IDRIS/A. Segmentation/2. All Segmentation Groundtruths/a. Training Set/4. Soft Exudates/IDRiD_44_SE.tif is a low contrast image\n",
      "  # This is added back by InteractiveShellApp.init_path()\n"
     ]
    },
    {
     "name": "stdout",
     "output_type": "stream",
     "text": [
      "created\n",
      "dosent exist\n"
     ]
    },
    {
     "name": "stderr",
     "output_type": "stream",
     "text": [
      "C:\\Users\\asarkar.NATICK-NT\\.conda\\envs\\tf-gpu\\lib\\site-packages\\ipykernel_launcher.py:11: UserWarning: D:/Kaggle datasets/IDRIS/A. Segmentation/2. All Segmentation Groundtruths/a. Training Set/4. Soft Exudates/IDRiD_45_SE.tif is a low contrast image\n",
      "  # This is added back by InteractiveShellApp.init_path()\n"
     ]
    },
    {
     "name": "stdout",
     "output_type": "stream",
     "text": [
      "created\n",
      "exists\n",
      "exists\n",
      "exists\n",
      "exists\n",
      "exists\n",
      "exists\n",
      "exists\n",
      "exists\n",
      "exists\n"
     ]
    }
   ],
   "source": [
    "create_images_gt(df_train, path_train_gt, labels, num = 3, string = 'SE')"
   ]
  },
  {
   "cell_type": "code",
   "execution_count": 17,
   "metadata": {},
   "outputs": [
    {
     "name": "stdout",
     "output_type": "stream",
     "text": [
      "exists\n",
      "exists\n",
      "exists\n",
      "exists\n",
      "exists\n",
      "exists\n",
      "exists\n",
      "exists\n",
      "exists\n",
      "exists\n",
      "exists\n",
      "exists\n",
      "exists\n",
      "exists\n",
      "exists\n",
      "exists\n",
      "exists\n",
      "exists\n",
      "exists\n",
      "exists\n",
      "exists\n",
      "exists\n",
      "exists\n",
      "exists\n",
      "exists\n",
      "exists\n",
      "exists\n",
      "exists\n",
      "exists\n",
      "exists\n",
      "exists\n",
      "exists\n",
      "exists\n",
      "exists\n",
      "exists\n",
      "exists\n",
      "exists\n",
      "exists\n",
      "exists\n",
      "exists\n",
      "exists\n",
      "exists\n",
      "exists\n",
      "exists\n",
      "exists\n",
      "exists\n",
      "exists\n",
      "exists\n",
      "exists\n",
      "exists\n",
      "exists\n",
      "exists\n",
      "exists\n",
      "exists\n"
     ]
    }
   ],
   "source": [
    "create_images_gt(df_train, path_train_gt, labels, num = 4, string = 'OD')"
   ]
  },
  {
   "cell_type": "code",
   "execution_count": 18,
   "metadata": {},
   "outputs": [
    {
     "name": "stdout",
     "output_type": "stream",
     "text": [
      "exists\n",
      "exists\n",
      "exists\n",
      "exists\n",
      "exists\n",
      "exists\n",
      "exists\n",
      "exists\n",
      "exists\n",
      "exists\n",
      "exists\n",
      "exists\n",
      "exists\n",
      "exists\n",
      "exists\n",
      "exists\n",
      "exists\n",
      "exists\n",
      "exists\n",
      "exists\n",
      "exists\n",
      "exists\n",
      "exists\n",
      "exists\n",
      "exists\n",
      "exists\n",
      "exists\n"
     ]
    }
   ],
   "source": [
    "create_images_gt(df_test, path_test_gt, labels, num = 0, string = 'MA')"
   ]
  },
  {
   "cell_type": "code",
   "execution_count": 19,
   "metadata": {},
   "outputs": [
    {
     "name": "stdout",
     "output_type": "stream",
     "text": [
      "exists\n",
      "exists\n",
      "exists\n",
      "exists\n",
      "exists\n",
      "exists\n",
      "exists\n",
      "exists\n",
      "exists\n",
      "exists\n",
      "exists\n",
      "exists\n",
      "exists\n",
      "exists\n",
      "exists\n",
      "exists\n",
      "exists\n",
      "exists\n",
      "exists\n",
      "exists\n",
      "exists\n",
      "exists\n",
      "exists\n",
      "exists\n",
      "exists\n",
      "exists\n",
      "exists\n"
     ]
    }
   ],
   "source": [
    "create_images_gt(df_test, path_test_gt, labels, num = 1, string = 'HE')"
   ]
  },
  {
   "cell_type": "code",
   "execution_count": 20,
   "metadata": {},
   "outputs": [
    {
     "name": "stdout",
     "output_type": "stream",
     "text": [
      "exists\n",
      "exists\n",
      "exists\n",
      "exists\n",
      "exists\n",
      "exists\n",
      "exists\n",
      "exists\n",
      "exists\n",
      "exists\n",
      "exists\n",
      "exists\n",
      "exists\n",
      "exists\n",
      "exists\n",
      "exists\n",
      "exists\n",
      "exists\n",
      "exists\n",
      "exists\n",
      "exists\n",
      "exists\n",
      "exists\n",
      "exists\n",
      "exists\n",
      "exists\n",
      "exists\n"
     ]
    }
   ],
   "source": [
    "create_images_gt(df_test, path_test_gt, labels, num = 2, string = 'EX')"
   ]
  },
  {
   "cell_type": "code",
   "execution_count": 21,
   "metadata": {},
   "outputs": [
    {
     "name": "stdout",
     "output_type": "stream",
     "text": [
      "exists\n",
      "exists\n",
      "dosent exist\n"
     ]
    },
    {
     "name": "stderr",
     "output_type": "stream",
     "text": [
      "C:\\Users\\asarkar.NATICK-NT\\.conda\\envs\\tf-gpu\\lib\\site-packages\\ipykernel_launcher.py:11: UserWarning: D:/Kaggle datasets/IDRIS/A. Segmentation/2. All Segmentation Groundtruths/b. Testing Set/4. Soft Exudates/IDRiD_57_SE.tif is a low contrast image\n",
      "  # This is added back by InteractiveShellApp.init_path()\n"
     ]
    },
    {
     "name": "stdout",
     "output_type": "stream",
     "text": [
      "created\n",
      "dosent exist\n"
     ]
    },
    {
     "name": "stderr",
     "output_type": "stream",
     "text": [
      "C:\\Users\\asarkar.NATICK-NT\\.conda\\envs\\tf-gpu\\lib\\site-packages\\ipykernel_launcher.py:11: UserWarning: D:/Kaggle datasets/IDRIS/A. Segmentation/2. All Segmentation Groundtruths/b. Testing Set/4. Soft Exudates/IDRiD_58_SE.tif is a low contrast image\n",
      "  # This is added back by InteractiveShellApp.init_path()\n"
     ]
    },
    {
     "name": "stdout",
     "output_type": "stream",
     "text": [
      "created\n",
      "exists\n",
      "exists\n",
      "exists\n",
      "dosent exist\n"
     ]
    },
    {
     "name": "stderr",
     "output_type": "stream",
     "text": [
      "C:\\Users\\asarkar.NATICK-NT\\.conda\\envs\\tf-gpu\\lib\\site-packages\\ipykernel_launcher.py:11: UserWarning: D:/Kaggle datasets/IDRIS/A. Segmentation/2. All Segmentation Groundtruths/b. Testing Set/4. Soft Exudates/IDRiD_62_SE.tif is a low contrast image\n",
      "  # This is added back by InteractiveShellApp.init_path()\n"
     ]
    },
    {
     "name": "stdout",
     "output_type": "stream",
     "text": [
      "created\n",
      "dosent exist\n"
     ]
    },
    {
     "name": "stderr",
     "output_type": "stream",
     "text": [
      "C:\\Users\\asarkar.NATICK-NT\\.conda\\envs\\tf-gpu\\lib\\site-packages\\ipykernel_launcher.py:11: UserWarning: D:/Kaggle datasets/IDRIS/A. Segmentation/2. All Segmentation Groundtruths/b. Testing Set/4. Soft Exudates/IDRiD_63_SE.tif is a low contrast image\n",
      "  # This is added back by InteractiveShellApp.init_path()\n"
     ]
    },
    {
     "name": "stdout",
     "output_type": "stream",
     "text": [
      "created\n",
      "exists\n",
      "dosent exist\n"
     ]
    },
    {
     "name": "stderr",
     "output_type": "stream",
     "text": [
      "C:\\Users\\asarkar.NATICK-NT\\.conda\\envs\\tf-gpu\\lib\\site-packages\\ipykernel_launcher.py:11: UserWarning: D:/Kaggle datasets/IDRIS/A. Segmentation/2. All Segmentation Groundtruths/b. Testing Set/4. Soft Exudates/IDRiD_65_SE.tif is a low contrast image\n",
      "  # This is added back by InteractiveShellApp.init_path()\n"
     ]
    },
    {
     "name": "stdout",
     "output_type": "stream",
     "text": [
      "created\n",
      "dosent exist\n"
     ]
    },
    {
     "name": "stderr",
     "output_type": "stream",
     "text": [
      "C:\\Users\\asarkar.NATICK-NT\\.conda\\envs\\tf-gpu\\lib\\site-packages\\ipykernel_launcher.py:11: UserWarning: D:/Kaggle datasets/IDRIS/A. Segmentation/2. All Segmentation Groundtruths/b. Testing Set/4. Soft Exudates/IDRiD_66_SE.tif is a low contrast image\n",
      "  # This is added back by InteractiveShellApp.init_path()\n"
     ]
    },
    {
     "name": "stdout",
     "output_type": "stream",
     "text": [
      "created\n",
      "exists\n",
      "exists\n",
      "dosent exist\n"
     ]
    },
    {
     "name": "stderr",
     "output_type": "stream",
     "text": [
      "C:\\Users\\asarkar.NATICK-NT\\.conda\\envs\\tf-gpu\\lib\\site-packages\\ipykernel_launcher.py:11: UserWarning: D:/Kaggle datasets/IDRIS/A. Segmentation/2. All Segmentation Groundtruths/b. Testing Set/4. Soft Exudates/IDRiD_69_SE.tif is a low contrast image\n",
      "  # This is added back by InteractiveShellApp.init_path()\n"
     ]
    },
    {
     "name": "stdout",
     "output_type": "stream",
     "text": [
      "created\n",
      "exists\n",
      "exists\n",
      "exists\n",
      "exists\n",
      "exists\n",
      "exists\n",
      "dosent exist\n"
     ]
    },
    {
     "name": "stderr",
     "output_type": "stream",
     "text": [
      "C:\\Users\\asarkar.NATICK-NT\\.conda\\envs\\tf-gpu\\lib\\site-packages\\ipykernel_launcher.py:11: UserWarning: D:/Kaggle datasets/IDRIS/A. Segmentation/2. All Segmentation Groundtruths/b. Testing Set/4. Soft Exudates/IDRiD_76_SE.tif is a low contrast image\n",
      "  # This is added back by InteractiveShellApp.init_path()\n"
     ]
    },
    {
     "name": "stdout",
     "output_type": "stream",
     "text": [
      "created\n",
      "dosent exist\n"
     ]
    },
    {
     "name": "stderr",
     "output_type": "stream",
     "text": [
      "C:\\Users\\asarkar.NATICK-NT\\.conda\\envs\\tf-gpu\\lib\\site-packages\\ipykernel_launcher.py:11: UserWarning: D:/Kaggle datasets/IDRIS/A. Segmentation/2. All Segmentation Groundtruths/b. Testing Set/4. Soft Exudates/IDRiD_77_SE.tif is a low contrast image\n",
      "  # This is added back by InteractiveShellApp.init_path()\n"
     ]
    },
    {
     "name": "stdout",
     "output_type": "stream",
     "text": [
      "created\n",
      "dosent exist\n"
     ]
    },
    {
     "name": "stderr",
     "output_type": "stream",
     "text": [
      "C:\\Users\\asarkar.NATICK-NT\\.conda\\envs\\tf-gpu\\lib\\site-packages\\ipykernel_launcher.py:11: UserWarning: D:/Kaggle datasets/IDRIS/A. Segmentation/2. All Segmentation Groundtruths/b. Testing Set/4. Soft Exudates/IDRiD_78_SE.tif is a low contrast image\n",
      "  # This is added back by InteractiveShellApp.init_path()\n"
     ]
    },
    {
     "name": "stdout",
     "output_type": "stream",
     "text": [
      "created\n",
      "dosent exist\n"
     ]
    },
    {
     "name": "stderr",
     "output_type": "stream",
     "text": [
      "C:\\Users\\asarkar.NATICK-NT\\.conda\\envs\\tf-gpu\\lib\\site-packages\\ipykernel_launcher.py:11: UserWarning: D:/Kaggle datasets/IDRIS/A. Segmentation/2. All Segmentation Groundtruths/b. Testing Set/4. Soft Exudates/IDRiD_79_SE.tif is a low contrast image\n",
      "  # This is added back by InteractiveShellApp.init_path()\n"
     ]
    },
    {
     "name": "stdout",
     "output_type": "stream",
     "text": [
      "created\n",
      "dosent exist\n"
     ]
    },
    {
     "name": "stderr",
     "output_type": "stream",
     "text": [
      "C:\\Users\\asarkar.NATICK-NT\\.conda\\envs\\tf-gpu\\lib\\site-packages\\ipykernel_launcher.py:11: UserWarning: D:/Kaggle datasets/IDRIS/A. Segmentation/2. All Segmentation Groundtruths/b. Testing Set/4. Soft Exudates/IDRiD_80_SE.tif is a low contrast image\n",
      "  # This is added back by InteractiveShellApp.init_path()\n"
     ]
    },
    {
     "name": "stdout",
     "output_type": "stream",
     "text": [
      "created\n",
      "dosent exist\n",
      "created\n"
     ]
    },
    {
     "name": "stderr",
     "output_type": "stream",
     "text": [
      "C:\\Users\\asarkar.NATICK-NT\\.conda\\envs\\tf-gpu\\lib\\site-packages\\ipykernel_launcher.py:11: UserWarning: D:/Kaggle datasets/IDRIS/A. Segmentation/2. All Segmentation Groundtruths/b. Testing Set/4. Soft Exudates/IDRiD_81_SE.tif is a low contrast image\n",
      "  # This is added back by InteractiveShellApp.init_path()\n"
     ]
    }
   ],
   "source": [
    "create_images_gt(df_test, path_test_gt, labels, num = 3, string = 'SE')"
   ]
  },
  {
   "cell_type": "code",
   "execution_count": 22,
   "metadata": {},
   "outputs": [
    {
     "name": "stdout",
     "output_type": "stream",
     "text": [
      "exists\n",
      "exists\n",
      "exists\n",
      "exists\n",
      "exists\n",
      "exists\n",
      "exists\n",
      "exists\n",
      "exists\n",
      "exists\n",
      "exists\n",
      "exists\n",
      "exists\n",
      "exists\n",
      "exists\n",
      "exists\n",
      "exists\n",
      "exists\n",
      "exists\n",
      "exists\n",
      "exists\n",
      "exists\n",
      "exists\n",
      "exists\n",
      "exists\n",
      "exists\n",
      "exists\n"
     ]
    }
   ],
   "source": [
    "create_images_gt(df_test, path_test_gt, labels, num = 4, string = 'OD')"
   ]
  },
  {
   "cell_type": "code",
   "execution_count": null,
   "metadata": {},
   "outputs": [],
   "source": []
  }
 ],
 "metadata": {
  "kernelspec": {
   "display_name": "Python 3",
   "language": "python",
   "name": "python3"
  },
  "language_info": {
   "codemirror_mode": {
    "name": "ipython",
    "version": 3
   },
   "file_extension": ".py",
   "mimetype": "text/x-python",
   "name": "python",
   "nbconvert_exporter": "python",
   "pygments_lexer": "ipython3",
   "version": "3.7.9"
  }
 },
 "nbformat": 4,
 "nbformat_minor": 4
}
